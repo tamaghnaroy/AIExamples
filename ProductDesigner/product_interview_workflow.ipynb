{
 "cells": [
  {
   "cell_type": "code",
   "execution_count": 13,
   "metadata": {},
   "outputs": [
    {
     "name": "stdout",
     "output_type": "stream",
     "text": [
      "Setup complete. Necessary packages and paths are loaded.\n"
     ]
    }
   ],
   "source": [
    "import os\n",
    "import sys\n",
    "import logging\n",
    "from pathlib import Path\n",
    "from dotenv import load_dotenv\n",
    "\n",
    "# Setup Python path to include the project root\n",
    "project_dir = Path.cwd().parent\n",
    "if str(project_dir) not in sys.path:\n",
    "    sys.path.insert(0, str(project_dir))\n",
    "\n",
    "# Load environment variables from .env file\n",
    "load_dotenv()\n",
    "\n",
    "# Configure logging\n",
    "logging.basicConfig(level=logging.INFO, format='%(asctime)s - %(levelname)s - %(message)s')\n",
    "\n",
    "# Import the agent and state management class\n",
    "from ProductDesigner.agents.safe_product_interviewer import SafeProductInterviewerAgent\n",
    "from ProductDesigner.graph_state import GraphState\n",
    "\n",
    "# Imports neccessary to run the cells below\n",
    "from pydantic import BaseModel\n",
    "from typing import List\n",
    "from langchain.output_parsers import PydanticOutputParser\n",
    "from openai import AsyncOpenAI\n",
    "import asyncio\n",
    "import os\n",
    "\n",
    "print('Setup complete. Necessary packages and paths are loaded.')"
   ]
  },
  {
   "cell_type": "markdown",
   "metadata": {},
   "source": [
    "# 1. Agent Initialization"
   ]
  },
  {
   "cell_type": "code",
   "execution_count": 10,
   "metadata": {},
   "outputs": [
    {
     "name": "stderr",
     "output_type": "stream",
     "text": [
      "2025-08-02 14:34:09,256 - INFO - LLMService initialized with model: gpt-4o\n",
      "2025-08-02 14:34:09,259 - INFO - Web search is enabled.\n"
     ]
    },
    {
     "name": "stdout",
     "output_type": "stream",
     "text": [
      "Agent initialized successfully.\n"
     ]
    },
    {
     "data": {
      "text/plain": [
       "['What is the primary purpose of this application or system?',\n",
       " 'Who are the main users or target audience of this application?',\n",
       " 'What are the 3-5 core features needed for the MVP (Minimum Viable Product)?',\n",
       " 'What specific problem does this solution solve for your users?',\n",
       " 'Are there any existing solutions to this problem? How is yours different?',\n",
       " 'What technologies or tech stack do you have in mind? Or would you like recommendations?',\n",
       " 'What are the main user flows or journeys through the application?',\n",
       " 'Are there any specific UI/UX requirements or preferences?',\n",
       " 'What are your plans for data storage and management?',\n",
       " 'Are there any specific security requirements or concerns?',\n",
       " 'What is your timeline for development of the MVP?',\n",
       " 'Are there any third-party integrations needed?',\n",
       " 'What metrics would define success for this product?']"
      ]
     },
     "execution_count": 10,
     "metadata": {},
     "output_type": "execute_result"
    }
   ],
   "source": [
    "# Define the initial product idea and create a mock state\n",
    "initial_idea = \"An AI-powered mutual fund recommendation system for indian MFs - fetching data from public or 3rd part API, produce vizualizations, track investments, suggest switches, analyze performanc eo fmultuaal funds, determine best MFs for a given risk type, optimal allocation\"\n",
    "mock_state = {\"initial_idea\": initial_idea, \"qna_history\": {}}\n",
    "\n",
    "# Initialize the interviewer agent\n",
    "interviewer = SafeProductInterviewerAgent()\n",
    "print(\"Agent initialized successfully.\")\n",
    "\n",
    "questions = interviewer._get_planning_questions()\n",
    "questions"
   ]
  },
  {
   "cell_type": "markdown",
   "metadata": {},
   "source": [
    "## Agent 1: Get the Answers of the Questions I have prepared previously"
   ]
  },
  {
   "cell_type": "code",
   "execution_count": null,
   "metadata": {},
   "outputs": [
    {
     "name": "stderr",
     "output_type": "stream",
     "text": [
      "2025-07-31 01:40:50,479 - INFO - Executing LLM chain with params: dict_keys(['questions', 'initial_idea', 'format_instructions'])\n",
      "2025-07-31 01:41:10,330 - INFO - HTTP Request: POST https://api.openai.com/v1/chat/completions \"HTTP/1.1 200 OK\"\n",
      "2025-07-31 01:41:10,347 - INFO - LLM chain executed successfully.\n"
     ]
    }
   ],
   "source": [
    "class QA(BaseModel):\n",
    "    question: str\n",
    "    answer: str\n",
    "\n",
    "class QALIST(BaseModel):\n",
    "    questions: List[QA]\n",
    "\n",
    "    def str(self):\n",
    "        return '\\n'.join([f\"Question: {qa.question}\\nAnswer: {qa.answer}\" for qa in self.questions])\n",
    "\n",
    "parser = PydanticOutputParser(pydantic_object=QALIST)\n",
    "format_instructions = parser.get_format_instructions()\n",
    "\n",
    "questions = interviewer._get_planning_questions()\n",
    "str_questions = '\\n'.join(questions)\n",
    "template = (\n",
    "            \"You are an expert product manager. Based on the initial idea and any relevant search results, \"\n",
    "            \"provide a comprehensive and insightful answer to the following questions. Each answer will be displayed to the client for helping them decide their answer. So make each answer as informative as possible with recommendations, options, industry standards, examples of existing products with simiiar focus etc.\\n\\n\"\n",
    "            \"Initial Idea: {initial_idea}\\n\"\n",
    "            \"Questions: \\n {questions}\\n\"\n",
    "            \"Include reasoning, multiple options where applicable, and industry best practices.\\n\"\n",
    "            \"Answer Format Instructions: \"\n",
    "            \"\\n{format_instructions}\"\n",
    "        )\n",
    "\n",
    "params = {\"questions\": str_questions, \n",
    "            \"initial_idea\": initial_idea,\n",
    "            \"format_instructions\": format_instructions}\n",
    "initial_qa = interviewer._run_llm_step(dict(), template, params, \"Could not generate an initial answer due to an error.\", output_parser=parser, model_override=\"gpt-4.1\", temparature_override=0.1)"
   ]
  },
  {
   "cell_type": "markdown",
   "metadata": {},
   "source": [
    "## Agent 2: Create Web search from the answers for enriching the Answers Further"
   ]
  },
  {
   "cell_type": "code",
   "execution_count": 10,
   "metadata": {},
   "outputs": [
    {
     "name": "stderr",
     "output_type": "stream",
     "text": [
      "2025-07-31 01:52:18,155 - INFO - Executing LLM chain with params: dict_keys(['initial_idea', 'format_instructions', 'initial_qa'])\n",
      "2025-07-31 01:52:23,207 - INFO - HTTP Request: POST https://api.openai.com/v1/chat/completions \"HTTP/1.1 200 OK\"\n",
      "2025-07-31 01:52:23,220 - INFO - LLM chain executed successfully.\n"
     ]
    }
   ],
   "source": [
    "class Websearch(BaseModel):\n",
    "    search_queries: List[str]\n",
    "\n",
    "parser = PydanticOutputParser(pydantic_object=Websearch)\n",
    "format_instructions = parser.get_format_instructions()\n",
    "\n",
    "template = (\n",
    "            \"You are an expert product manager. Based on the initial idea and the initial QA with the client, generate a list of search queries to perform web search, to enrich the answers\"\n",
    "            \"Each answer will be displayed to the client for helping them decide their answer. So make the queries to extract relevant and timely information. Aim to enrich the recommendations, options, industry standards, examples of existing products with simiiar focus etc.\\n\\n\"\n",
    "            \"Initial Idea: {initial_idea}\\n\"\n",
    "            \"QA: \\n {initial_qa}\\n\"\n",
    "            \"Include reasoning, multiple options where applicable, and industry best practices.\\n\"\n",
    "            \"Answer Format Instructions: \"\n",
    "            \"\\n{format_instructions}\"\n",
    "        )\n",
    "\n",
    "params = {\"initial_idea\": initial_idea,\n",
    "            \"format_instructions\": format_instructions,\n",
    "            \"initial_qa\": initial_qa.str()}\n",
    "\n",
    "websearch = interviewer._run_llm_step(dict(), template, params, \"Could not generate the list of web search queries.\", output_parser=parser, model_override=\"gpt-4.1\", temparature_override=0.1)"
   ]
  },
  {
   "cell_type": "markdown",
   "metadata": {},
   "source": [
    "## Agent 3: Generating a List of Searches based on the user idea"
   ]
  },
  {
   "cell_type": "code",
   "execution_count": 20,
   "metadata": {},
   "outputs": [
    {
     "name": "stderr",
     "output_type": "stream",
     "text": [
      "2025-08-02 14:53:38,362 - INFO - Executing LLM chain with params: dict_keys(['initial_idea', 'format_instructions'])\n",
      "2025-08-02 14:53:44,296 - INFO - HTTP Request: POST https://api.openai.com/v1/chat/completions \"HTTP/1.1 200 OK\"\n",
      "2025-08-02 14:53:44,301 - INFO - LLM chain executed successfully.\n"
     ]
    },
    {
     "name": "stdout",
     "output_type": "stream",
     "text": [
      "Existing AI-powered mutual fund recommendation platforms in India\n",
      "Popular mutual fund analysis tools for Indian investors\n",
      "Feature comparison of Indian mutual fund tracking apps\n",
      "User journey examples for mutual fund investment recommendation platforms\n",
      "Typical tech stack for financial analytics and recommendation systems\n",
      "Open source codebases for mutual fund analysis on GitHub\n",
      "Python packages for financial data analysis and visualization\n",
      "APIs providing Indian mutual fund data (e.g., Value Research, Morningstar, AMFI)\n",
      "UI/UX design examples for investment tracking and recommendation apps\n",
      "Core functional modules in mutual fund recommendation systems\n",
      "Gap analysis between existing mutual fund recommendation tools and proposed AI-powered features\n",
      "Features commonly excluded from MVPs of investment recommendation platforms\n",
      "Useful but non-essential features for mutual fund recommendation systems\n",
      "Data sources for Indian mutual fund NAVs, performance, and holdings\n",
      "API documentation for fetching Indian mutual fund data\n",
      "Visualization libraries suitable for financial data (e.g., Plotly, Matplotlib, Seaborn)\n",
      "Examples of risk profiling in investment recommendation apps\n",
      "Optimal asset allocation algorithms for mutual fund portfolios\n",
      "Switch suggestion logic in mutual fund tracking platforms\n",
      "Security and compliance considerations for financial recommendation apps in India\n",
      "User authentication and portfolio privacy in investment tracking apps\n",
      "Integration of third-party APIs for real-time mutual fund data\n",
      "Machine learning models for mutual fund performance prediction\n",
      "Backtesting frameworks for mutual fund strategies\n",
      "Mobile vs. web app considerations for mutual fund recommendation tools\n",
      "User feedback and explainability in AI-powered financial recommendations\n",
      "Comparison of Indian mutual fund data providers (coverage, latency, cost)\n",
      "Open source projects for portfolio optimization\n",
      "Examples of investment dashboard UI components\n",
      "Limitations of current Indian mutual fund recommendation solutions\n"
     ]
    }
   ],
   "source": [
    "class Websearch(BaseModel):\n",
    "    search_queries: List[str]\n",
    "\n",
    "parser = PydanticOutputParser(pydantic_object=Websearch)\n",
    "format_instructions = parser.get_format_instructions()\n",
    "\n",
    "template = (\n",
    "            \"You are a useful product research and gap analysis agent. Based on the initial product idea from the user below, you will generate a list of queries to research the product idea from scratch. \"\n",
    "            \"Focus on the following: \"\n",
    "            \"1. Exisitng solution similiar to the user idea\"\n",
    "            \"2. Typical Feature set for a product with similiarity to the user idea\"\n",
    "            \"3. Examples of typical User journey for a product with similiarity to the user idea\"\n",
    "            \"4. Typical tech stack for a product with similiarity to the user idea\"\n",
    "            \"5. Exisitng codebases in Github which can be leveraged for implementing the user idea\"\n",
    "            \"6. Third party python packages or open source projects / packages that can be used for implementing the user idea\"\n",
    "            \"7. Examples of UI / UX for a product with similiarity to the user idea\"\n",
    "            \"8. Main functional modules for the product\"\n",
    "            \"9. Gap analysis vs. existing solutions\"\n",
    "            \"10. Features that are not required for the MVP\"\n",
    "            \"11. Features that are useful but not neccessary\"\n",
    "            \"12. Data Sources if relevant, API details\"\n",
    "            \"Return a maximum of 30 queries, but feel free to return less if that is sufficient. Make sure each query is unique and not similar to each other: \\n\"\n",
    "            \"Initial Idea: {initial_idea}\\n\"\n",
    "            \"Answer Format Instructions: \"\n",
    "            \"\\n{format_instructions}\"\n",
    "        )\n",
    "\n",
    "params = {\"initial_idea\": initial_idea,\n",
    "        \"format_instructions\": format_instructions,\n",
    "        }\n",
    "\n",
    "websearch = interviewer._run_llm_step(dict(), template, params, \"Could not generate the list of web search queries.\", output_parser=parser, model_override=\"gpt-4.1\", temparature_override=0.1)\n",
    "print('\\n'.join(websearch.search_queries))"
   ]
  },
  {
   "cell_type": "code",
   "execution_count": 21,
   "metadata": {},
   "outputs": [
    {
     "name": "stderr",
     "output_type": "stream",
     "text": [
      "2025-08-02 14:53:55,176 - INFO - HTTP Request: POST https://api.openai.com/v1/responses \"HTTP/1.1 200 OK\"\n",
      "2025-08-02 14:53:55,492 - INFO - HTTP Request: POST https://api.openai.com/v1/responses \"HTTP/1.1 200 OK\"\n",
      "2025-08-02 14:53:55,503 - INFO - HTTP Request: POST https://api.openai.com/v1/responses \"HTTP/1.1 200 OK\"\n",
      "2025-08-02 14:53:55,608 - INFO - HTTP Request: POST https://api.openai.com/v1/responses \"HTTP/1.1 200 OK\"\n",
      "2025-08-02 14:53:55,817 - INFO - HTTP Request: POST https://api.openai.com/v1/responses \"HTTP/1.1 200 OK\"\n",
      "2025-08-02 14:53:56,036 - INFO - HTTP Request: POST https://api.openai.com/v1/responses \"HTTP/1.1 200 OK\"\n",
      "2025-08-02 14:53:56,556 - INFO - HTTP Request: POST https://api.openai.com/v1/responses \"HTTP/1.1 200 OK\"\n",
      "2025-08-02 14:53:56,620 - INFO - HTTP Request: POST https://api.openai.com/v1/responses \"HTTP/1.1 200 OK\"\n",
      "2025-08-02 14:53:56,779 - INFO - HTTP Request: POST https://api.openai.com/v1/responses \"HTTP/1.1 200 OK\"\n",
      "2025-08-02 14:53:56,870 - INFO - HTTP Request: POST https://api.openai.com/v1/responses \"HTTP/1.1 200 OK\"\n",
      "2025-08-02 14:53:56,919 - INFO - HTTP Request: POST https://api.openai.com/v1/responses \"HTTP/1.1 200 OK\"\n",
      "2025-08-02 14:53:57,543 - INFO - HTTP Request: POST https://api.openai.com/v1/responses \"HTTP/1.1 200 OK\"\n",
      "2025-08-02 14:53:57,605 - INFO - HTTP Request: POST https://api.openai.com/v1/responses \"HTTP/1.1 200 OK\"\n",
      "2025-08-02 14:53:57,800 - INFO - HTTP Request: POST https://api.openai.com/v1/responses \"HTTP/1.1 200 OK\"\n",
      "2025-08-02 14:53:58,154 - INFO - HTTP Request: POST https://api.openai.com/v1/responses \"HTTP/1.1 200 OK\"\n",
      "2025-08-02 14:53:58,238 - INFO - HTTP Request: POST https://api.openai.com/v1/responses \"HTTP/1.1 200 OK\"\n",
      "2025-08-02 14:53:58,330 - INFO - HTTP Request: POST https://api.openai.com/v1/responses \"HTTP/1.1 200 OK\"\n",
      "2025-08-02 14:53:58,330 - INFO - HTTP Request: POST https://api.openai.com/v1/responses \"HTTP/1.1 200 OK\"\n",
      "2025-08-02 14:53:58,540 - INFO - HTTP Request: POST https://api.openai.com/v1/responses \"HTTP/1.1 200 OK\"\n",
      "2025-08-02 14:53:58,690 - INFO - HTTP Request: POST https://api.openai.com/v1/responses \"HTTP/1.1 200 OK\"\n",
      "2025-08-02 14:53:58,831 - INFO - HTTP Request: POST https://api.openai.com/v1/responses \"HTTP/1.1 200 OK\"\n",
      "2025-08-02 14:53:58,974 - INFO - HTTP Request: POST https://api.openai.com/v1/responses \"HTTP/1.1 200 OK\"\n",
      "2025-08-02 14:53:59,205 - INFO - HTTP Request: POST https://api.openai.com/v1/responses \"HTTP/1.1 200 OK\"\n",
      "2025-08-02 14:54:00,556 - INFO - HTTP Request: POST https://api.openai.com/v1/responses \"HTTP/1.1 200 OK\"\n",
      "2025-08-02 14:54:00,711 - INFO - HTTP Request: POST https://api.openai.com/v1/responses \"HTTP/1.1 200 OK\"\n",
      "2025-08-02 14:54:01,187 - INFO - HTTP Request: POST https://api.openai.com/v1/responses \"HTTP/1.1 200 OK\"\n",
      "2025-08-02 14:54:02,103 - INFO - HTTP Request: POST https://api.openai.com/v1/responses \"HTTP/1.1 200 OK\"\n",
      "2025-08-02 14:54:03,792 - INFO - HTTP Request: POST https://api.openai.com/v1/responses \"HTTP/1.1 200 OK\"\n",
      "2025-08-02 14:54:04,915 - INFO - HTTP Request: POST https://api.openai.com/v1/responses \"HTTP/1.1 200 OK\"\n",
      "2025-08-02 14:54:09,518 - INFO - HTTP Request: POST https://api.openai.com/v1/responses \"HTTP/1.1 200 OK\"\n"
     ]
    }
   ],
   "source": [
    "async def fetch_websearch_results(websearch):\n",
    "    client = AsyncOpenAI(api_key=os.getenv(\"OPENAI_API_KEY\"))\n",
    "    tasks = []\n",
    "    for query in websearch.search_queries:\n",
    "        search_task =  client.responses.create(\n",
    "            model=\"gpt-4.1\",  # or another supported model\n",
    "            input=\"Use web_search to search for information for each of the following topics - \\n\" + query,\n",
    "            tools=[\n",
    "                {\n",
    "                \"type\": \"web_search\"\n",
    "            }\n",
    "            ]\n",
    "        )\n",
    "        tasks.append(search_task)\n",
    "\n",
    "    results = await asyncio.gather(*tasks)\n",
    "    search_results = [response.output[1].content[0].text for response in results]\n",
    "    return search_results\n",
    "\n",
    "search_results = await fetch_websearch_results(websearch)"
   ]
  },
  {
   "cell_type": "code",
   "execution_count": null,
   "metadata": {},
   "outputs": [
    {
     "name": "stderr",
     "output_type": "stream",
     "text": [
      "2025-08-02 14:55:06,840 - INFO - Executing LLM chain with params: dict_keys(['initial_idea', 'format_instructions', 'topics'])\n"
     ]
    },
    {
     "name": "stdout",
     "output_type": "stream",
     "text": [
      "\n",
      "Depth: 1\n",
      "*******************************************\n"
     ]
    },
    {
     "name": "stderr",
     "output_type": "stream",
     "text": [
      "2025-08-02 14:55:10,893 - INFO - HTTP Request: POST https://api.openai.com/v1/chat/completions \"HTTP/1.1 200 OK\"\n",
      "2025-08-02 14:55:10,997 - INFO - LLM chain executed successfully.\n"
     ]
    },
    {
     "name": "stdout",
     "output_type": "stream",
     "text": [
      "List of public and third-party APIs for Indian mutual fund data (NAV, holdings, performance, etc.)\n",
      "Regulatory requirements for building and operating a mutual fund recommendation platform in India\n",
      "Best practices and existing solutions for AI-powered mutual fund recommendations\n",
      "Available visualization libraries and tools for financial data in India\n",
      "Methods for tracking and updating user investment portfolios in Indian mutual funds\n",
      "Techniques for risk profiling and mapping to mutual fund categories in India\n",
      "Algorithms for optimal asset allocation in mutual funds\n",
      "Competitor analysis: Existing mutual fund recommendation apps in India\n",
      "Data privacy and security requirements for financial apps in India\n",
      "Integration options with Indian mutual fund platforms (e.g., CAMS, KFintech)\n"
     ]
    },
    {
     "name": "stderr",
     "output_type": "stream",
     "text": [
      "2025-08-02 14:55:20,969 - INFO - HTTP Request: POST https://api.openai.com/v1/responses \"HTTP/1.1 200 OK\"\n",
      "2025-08-02 14:55:21,430 - INFO - HTTP Request: POST https://api.openai.com/v1/responses \"HTTP/1.1 200 OK\"\n",
      "2025-08-02 14:55:21,599 - INFO - HTTP Request: POST https://api.openai.com/v1/responses \"HTTP/1.1 200 OK\"\n",
      "2025-08-02 14:55:21,644 - INFO - HTTP Request: POST https://api.openai.com/v1/responses \"HTTP/1.1 200 OK\"\n",
      "2025-08-02 14:55:22,071 - INFO - HTTP Request: POST https://api.openai.com/v1/responses \"HTTP/1.1 200 OK\"\n",
      "2025-08-02 14:55:22,426 - INFO - HTTP Request: POST https://api.openai.com/v1/responses \"HTTP/1.1 200 OK\"\n",
      "2025-08-02 14:55:22,461 - INFO - HTTP Request: POST https://api.openai.com/v1/responses \"HTTP/1.1 200 OK\"\n",
      "2025-08-02 14:55:22,829 - INFO - HTTP Request: POST https://api.openai.com/v1/responses \"HTTP/1.1 200 OK\"\n",
      "2025-08-02 14:55:23,334 - INFO - HTTP Request: POST https://api.openai.com/v1/responses \"HTTP/1.1 200 OK\"\n",
      "2025-08-02 14:55:25,153 - INFO - HTTP Request: POST https://api.openai.com/v1/responses \"HTTP/1.1 200 OK\"\n",
      "2025-08-02 14:55:25,158 - INFO - Executing LLM chain with params: dict_keys(['initial_idea', 'format_instructions', 'topics'])\n"
     ]
    },
    {
     "name": "stdout",
     "output_type": "stream",
     "text": [
      "************************************************\n",
      "\n",
      "Depth: 2\n",
      "*******************************************\n"
     ]
    },
    {
     "name": "stderr",
     "output_type": "stream",
     "text": [
      "2025-08-02 14:55:30,318 - INFO - HTTP Request: POST https://api.openai.com/v1/chat/completions \"HTTP/1.1 200 OK\"\n",
      "2025-08-02 14:55:30,318 - INFO - LLM chain executed successfully.\n"
     ]
    },
    {
     "name": "stdout",
     "output_type": "stream",
     "text": [
      "What are the costs, licensing terms, and data limits for each major Indian mutual fund API (e.g., mftool, mfapi.in, CAMS/KFintech APIs)?\n",
      "What are the technical integration requirements and onboarding processes for accessing CAMS, KFintech, and MFCentral APIs for third-party platforms?\n",
      "What are the latest SEBI/AMFI guidelines on the use of AI and automated recommendation engines in mutual fund advisory platforms?\n",
      "What are the typical user flows and UX best practices for onboarding, risk profiling, and investment tracking in Indian mutual fund apps?\n",
      "What are the most common challenges and failure points in integrating with Indian mutual fund transaction APIs (e.g., error rates, downtime, reconciliation issues)?\n",
      "What are the detailed requirements for SEBI Investment Advisor registration (costs, timelines, documentation, ongoing compliance)?\n",
      "What are the most up-to-date cybersecurity standards and certifications required for Indian fintech apps (e.g., ISO 27001, PCI DSS, RBI guidelines)?\n",
      "What are the most effective AI/ML models used in production by Indian mutual fund recommendation platforms, and what datasets do they use?\n",
      "What are the typical commission structures, revenue models, and monetization strategies for mutual fund recommendation platforms in India?\n",
      "Are there any recent enforcement actions or case studies of regulatory penalties against mutual fund platforms in India for non-compliance (data privacy, advisory, AML, etc.)?\n"
     ]
    },
    {
     "name": "stderr",
     "output_type": "stream",
     "text": [
      "2025-08-02 14:55:38,484 - INFO - HTTP Request: POST https://api.openai.com/v1/responses \"HTTP/1.1 200 OK\"\n",
      "2025-08-02 14:55:38,687 - INFO - HTTP Request: POST https://api.openai.com/v1/responses \"HTTP/1.1 200 OK\"\n",
      "2025-08-02 14:55:38,805 - INFO - HTTP Request: POST https://api.openai.com/v1/responses \"HTTP/1.1 200 OK\"\n",
      "2025-08-02 14:55:39,237 - INFO - HTTP Request: POST https://api.openai.com/v1/responses \"HTTP/1.1 200 OK\"\n",
      "2025-08-02 14:55:39,924 - INFO - HTTP Request: POST https://api.openai.com/v1/responses \"HTTP/1.1 200 OK\"\n",
      "2025-08-02 14:55:41,413 - INFO - HTTP Request: POST https://api.openai.com/v1/responses \"HTTP/1.1 200 OK\"\n",
      "2025-08-02 14:55:42,596 - INFO - HTTP Request: POST https://api.openai.com/v1/responses \"HTTP/1.1 200 OK\"\n",
      "2025-08-02 14:55:44,761 - INFO - HTTP Request: POST https://api.openai.com/v1/responses \"HTTP/1.1 200 OK\"\n",
      "2025-08-02 14:55:50,149 - INFO - HTTP Request: POST https://api.openai.com/v1/responses \"HTTP/1.1 200 OK\"\n",
      "2025-08-02 14:55:50,300 - INFO - HTTP Request: POST https://api.openai.com/v1/responses \"HTTP/1.1 200 OK\"\n",
      "2025-08-02 14:55:50,303 - INFO - Executing LLM chain with params: dict_keys(['initial_idea', 'format_instructions', 'topics'])\n"
     ]
    },
    {
     "name": "stdout",
     "output_type": "stream",
     "text": [
      "************************************************\n",
      "\n",
      "Depth: 3\n",
      "*******************************************\n"
     ]
    },
    {
     "name": "stderr",
     "output_type": "stream",
     "text": [
      "2025-08-02 14:55:51,553 - INFO - HTTP Request: POST https://api.openai.com/v1/chat/completions \"HTTP/1.1 200 OK\"\n",
      "2025-08-02 14:55:51,553 - INFO - LLM chain executed successfully.\n"
     ]
    },
    {
     "name": "stdout",
     "output_type": "stream",
     "text": [
      "\n"
     ]
    }
   ],
   "source": [
    "MAX_DEPTH = 5\n",
    "\n",
    "depth = 1\n",
    "current_learnings = []\n",
    "STOP = False\n",
    "\n",
    "while not STOP and depth <= MAX_DEPTH:\n",
    "    print(\"\\nDepth: \" + str(depth))\n",
    "    \n",
    "    for query, result in zip(websearch.search_queries, search_results):\n",
    "        current_learnings.append(\"Topic: \" + query + \"\\nResult: \" + result)\n",
    "\n",
    "    total_learnings = len(current_learnings)\n",
    "    \n",
    "    print(\"Total learnings: \" + str(total_learnings))\n",
    "    print(\"*******************************************\")\n",
    "    learning_text = \"========\\n\".join(current_learnings)\n",
    "\n",
    "    template = (\n",
    "                \"You are evaluating the work of a research agent who was tasked to extract information from the web about a product idea suggested by the user\"\n",
    "                \"Initial Idea: {initial_idea}\\n\"\n",
    "                \"Information extracted by the research agent: \\n {topics}\\n\"\n",
    "                \"Evaluate if you have sufficient information that the client might need to decide about how to execute the product idea. If not, generate a list of additional queries to extract information from the web.\"\n",
    "                \"If the information set is sufficient, return an empty list.\"\n",
    "                \"Answer Format Instructions: \"\n",
    "                \"\\n{format_instructions}\"\n",
    "            )\n",
    "\n",
    "    params = {\"initial_idea\": initial_idea,\n",
    "            \"format_instructions\": format_instructions,\n",
    "            \"topics\": learning_text,\n",
    "            }\n",
    "\n",
    "    websearch = interviewer._run_llm_step(dict(), template, params, \"Could not generate the list of web search queries.\", output_parser=parser, model_override=\"gpt-4.1\", temparature_override=0.1)\n",
    "    if len(websearch.search_queries) == 0:\n",
    "        print(\"No additional queries generated.\")\n",
    "        STOP = True\n",
    "    else:\n",
    "        print(\"No additional queries generated.\")\n",
    "        print('\\n'.join(websearch.search_queries))\n",
    "        depth += 1\n",
    "        search_results = await fetch_websearch_results(websearch)\n",
    "    print(\"************************************************\")"
   ]
  },
  {
   "cell_type": "code",
   "execution_count": 18,
   "metadata": {},
   "outputs": [
    {
     "name": "stdout",
     "output_type": "stream",
     "text": [
      "As of August 2025, several AI-powered personal finance applications have emerged as market leaders, offering innovative solutions to help users manage their finances effectively. Here are some of the top contenders:\n",
      "\n",
      "\n",
      "\n",
      "**Cleo**  \n",
      "An AI-driven chatbot that provides personalized budgeting advice, spending insights, and savings challenges in an engaging, conversational manner. ([online-tech-tips.com](https://www.online-tech-tips.com/10-ai-money-apps-that-make-mint-look-medieval/?utm_source=openai))\n",
      "\n",
      "\n",
      "\n",
      "\n",
      "**Mint**  \n",
      "A comprehensive financial management tool that aggregates accounts, categorizes expenses using AI, and offers real-time alerts to help users stay on top of their finances. ([coinworldstory.com](https://coinworldstory.com/best-ai-powered-personal-finance-apps/?utm_source=openai))\n",
      "\n",
      "\n",
      "\n",
      "\n",
      "**YNAB (You Need A Budget)**  \n",
      "Focuses on proactive budgeting by assigning every dollar a job, helping users prioritize spending and savings with AI-driven forecasting tools. ([ariestranslation.com](https://ariestranslation.com/the-rise-of-ai-driven-personal-finance-apps-in-2025/?utm_source=openai))\n",
      "\n",
      "\n",
      "\n",
      "\n",
      "**Albert**  \n",
      "Combines AI budgeting with access to human financial experts, offering smart savings, investment advice, and real-time budget alerts. ([linkedin.com](https://www.linkedin.com/pulse/best-ai-personal-finance-apps-2025-manage-your-money-smarter-behzad-dqngf?utm_source=openai))\n",
      "\n",
      "\n",
      "\n",
      "\n",
      "**PocketGuard**  \n",
      "Utilizes AI to identify unnecessary expenditures, such as unused subscriptions, and suggests ways to save, providing real-time spending alerts. ([ariestranslation.com](https://ariestranslation.com/the-rise-of-ai-driven-personal-finance-apps-in-2025/?utm_source=openai))\n",
      "\n",
      "\n",
      "These applications leverage artificial intelligence to offer personalized financial guidance, automate savings, and provide real-time insights, making financial management more accessible and efficient for users. \n"
     ]
    }
   ],
   "source": [
    "print(response.output[1].content[0].text)"
   ]
  },
  {
   "cell_type": "markdown",
   "metadata": {},
   "source": [
    "# 2. Stage 1: Web Search for Context"
   ]
  },
  {
   "cell_type": "code",
   "execution_count": 12,
   "metadata": {},
   "outputs": [
    {
     "name": "stderr",
     "output_type": "stream",
     "text": [
      "2025-07-31 01:57:10,031 - INFO - Performing web search for: latest AI-powered personal finance apps 2024\n",
      "c:\\Code\\anaconda3\\Lib\\site-packages\\langchain_community\\utilities\\duckduckgo_search.py:63: RuntimeWarning: This package (`duckduckgo_search`) has been renamed to `ddgs`! Use `pip install ddgs` instead.\n",
      "  with DDGS() as ddgs:\n",
      "2025-07-31 01:57:10,529 - INFO - response: https://www.bing.com/search?q=latest+AI-powered+personal+finance+apps+2024&filters=ex1%3A%22ez5_19934_20299%22 200\n",
      "2025-07-31 01:57:10,562 - INFO - Web search successful.\n",
      "2025-07-31 01:57:10,565 - INFO - Performing web search for: best budgeting and investment management apps comparison\n",
      "c:\\Code\\anaconda3\\Lib\\site-packages\\langchain_community\\utilities\\duckduckgo_search.py:63: RuntimeWarning: This package (`duckduckgo_search`) has been renamed to `ddgs`! Use `pip install ddgs` instead.\n",
      "  with DDGS() as ddgs:\n",
      "2025-07-31 01:57:10,934 - INFO - response: https://www.bing.com/search?q=best+budgeting+and+investment+management+apps+comparison&filters=ex1%3A%22ez5_19934_20299%22 200\n",
      "2025-07-31 01:57:11,535 - INFO - Web search successful.\n",
      "2025-07-31 01:57:11,535 - INFO - Performing web search for: AI in personal finance: industry trends and standards\n",
      "c:\\Code\\anaconda3\\Lib\\site-packages\\langchain_community\\utilities\\duckduckgo_search.py:63: RuntimeWarning: This package (`duckduckgo_search`) has been renamed to `ddgs`! Use `pip install ddgs` instead.\n",
      "  with DDGS() as ddgs:\n",
      "2025-07-31 01:57:12,060 - INFO - response: https://www.bing.com/search?q=AI+in+personal+finance%3A+industry+trends+and+standards&filters=ex1%3A%22ez5_19934_20299%22 200\n",
      "2025-07-31 01:57:12,165 - INFO - Web search successful.\n",
      "2025-07-31 01:57:12,165 - INFO - Performing web search for: examples of conversational AI in finance apps\n",
      "c:\\Code\\anaconda3\\Lib\\site-packages\\langchain_community\\utilities\\duckduckgo_search.py:63: RuntimeWarning: This package (`duckduckgo_search`) has been renamed to `ddgs`! Use `pip install ddgs` instead.\n",
      "  with DDGS() as ddgs:\n",
      "2025-07-31 01:57:12,467 - INFO - response: https://www.bing.com/search?q=examples+of+conversational+AI+in+finance+apps&filters=ex1%3A%22ez5_19934_20299%22 200\n",
      "2025-07-31 01:57:14,109 - INFO - response: https://www.bing.com/search?q=examples+of+conversational+AI+in+finance+apps&filters=ex1%3A%22ez5_19934_20299%22&first=11&FORM=PERE 200\n",
      "2025-07-31 01:57:14,215 - INFO - Web search successful.\n",
      "2025-07-31 01:57:14,218 - INFO - Performing web search for: how Cleo, Mint, YNAB, and Personal Capital use AI\n",
      "c:\\Code\\anaconda3\\Lib\\site-packages\\langchain_community\\utilities\\duckduckgo_search.py:63: RuntimeWarning: This package (`duckduckgo_search`) has been renamed to `ddgs`! Use `pip install ddgs` instead.\n",
      "  with DDGS() as ddgs:\n",
      "2025-07-31 01:57:14,515 - INFO - response: https://www.bing.com/search?q=how+Cleo%2C+Mint%2C+YNAB%2C+and+Personal+Capital+use+AI&filters=ex1%3A%22ez5_19934_20299%22 200\n",
      "2025-07-31 01:57:15,010 - INFO - Web search successful.\n",
      "2025-07-31 01:57:15,011 - INFO - Performing web search for: top financial data aggregation APIs 2024\n",
      "c:\\Code\\anaconda3\\Lib\\site-packages\\langchain_community\\utilities\\duckduckgo_search.py:63: RuntimeWarning: This package (`duckduckgo_search`) has been renamed to `ddgs`! Use `pip install ddgs` instead.\n",
      "  with DDGS() as ddgs:\n",
      "2025-07-31 01:57:15,299 - INFO - response: https://www.bing.com/search?q=top+financial+data+aggregation+APIs+2024&filters=ex1%3A%22ez5_19934_20299%22 200\n",
      "2025-07-31 01:57:15,345 - INFO - Web search successful.\n",
      "2025-07-31 01:57:15,347 - INFO - Performing web search for: security best practices for fintech applications\n",
      "c:\\Code\\anaconda3\\Lib\\site-packages\\langchain_community\\utilities\\duckduckgo_search.py:63: RuntimeWarning: This package (`duckduckgo_search`) has been renamed to `ddgs`! Use `pip install ddgs` instead.\n",
      "  with DDGS() as ddgs:\n",
      "2025-07-31 01:57:15,810 - INFO - response: https://www.bing.com/search?q=security+best+practices+for+fintech+applications&filters=ex1%3A%22ez5_19934_20299%22 200\n",
      "2025-07-31 01:57:16,265 - INFO - Web search successful.\n",
      "2025-07-31 01:57:16,270 - INFO - Performing web search for: GDPR and CCPA compliance for personal finance apps\n",
      "c:\\Code\\anaconda3\\Lib\\site-packages\\langchain_community\\utilities\\duckduckgo_search.py:63: RuntimeWarning: This package (`duckduckgo_search`) has been renamed to `ddgs`! Use `pip install ddgs` instead.\n",
      "  with DDGS() as ddgs:\n",
      "2025-07-31 01:57:16,771 - INFO - response: https://www.bing.com/search?q=GDPR+and+CCPA+compliance+for+personal+finance+apps&filters=ex1%3A%22ez5_19934_20299%22 200\n",
      "2025-07-31 01:57:16,878 - INFO - Web search successful.\n",
      "2025-07-31 01:57:16,880 - INFO - Performing web search for: UI/UX design trends for finance and investment apps\n",
      "c:\\Code\\anaconda3\\Lib\\site-packages\\langchain_community\\utilities\\duckduckgo_search.py:63: RuntimeWarning: This package (`duckduckgo_search`) has been renamed to `ddgs`! Use `pip install ddgs` instead.\n",
      "  with DDGS() as ddgs:\n",
      "2025-07-31 01:57:17,281 - INFO - response: https://www.bing.com/search?q=UI%2FUX+design+trends+for+finance+and+investment+apps&filters=ex1%3A%22ez5_19934_20299%22 200\n",
      "2025-07-31 01:57:17,395 - INFO - Web search successful.\n",
      "2025-07-31 01:57:17,399 - INFO - Performing web search for: case studies of AI-driven financial coaching apps\n",
      "c:\\Code\\anaconda3\\Lib\\site-packages\\langchain_community\\utilities\\duckduckgo_search.py:63: RuntimeWarning: This package (`duckduckgo_search`) has been renamed to `ddgs`! Use `pip install ddgs` instead.\n",
      "  with DDGS() as ddgs:\n",
      "2025-07-31 01:57:17,689 - INFO - response: https://www.bing.com/search?q=case+studies+of+AI-driven+financial+coaching+apps&filters=ex1%3A%22ez5_19934_20299%22 200\n",
      "2025-07-31 01:57:17,744 - INFO - Web search successful.\n",
      "2025-07-31 01:57:17,747 - INFO - Performing web search for: predictive analytics in personal finance applications\n",
      "c:\\Code\\anaconda3\\Lib\\site-packages\\langchain_community\\utilities\\duckduckgo_search.py:63: RuntimeWarning: This package (`duckduckgo_search`) has been renamed to `ddgs`! Use `pip install ddgs` instead.\n",
      "  with DDGS() as ddgs:\n",
      "2025-07-31 01:57:17,999 - INFO - response: https://www.bing.com/search?q=predictive+analytics+in+personal+finance+applications&filters=ex1%3A%22ez5_19934_20299%22 200\n",
      "2025-07-31 01:57:18,448 - INFO - Web search successful.\n",
      "2025-07-31 01:57:18,449 - INFO - Performing web search for: user engagement metrics for finance apps\n",
      "c:\\Code\\anaconda3\\Lib\\site-packages\\langchain_community\\utilities\\duckduckgo_search.py:63: RuntimeWarning: This package (`duckduckgo_search`) has been renamed to `ddgs`! Use `pip install ddgs` instead.\n",
      "  with DDGS() as ddgs:\n",
      "2025-07-31 01:57:18,818 - INFO - response: https://www.bing.com/search?q=user+engagement+metrics+for+finance+apps&filters=ex1%3A%22ez5_19934_20299%22 200\n",
      "2025-07-31 01:57:18,902 - INFO - Web search successful.\n",
      "2025-07-31 01:57:18,902 - INFO - Performing web search for: successful onboarding flows in fintech apps\n",
      "c:\\Code\\anaconda3\\Lib\\site-packages\\langchain_community\\utilities\\duckduckgo_search.py:63: RuntimeWarning: This package (`duckduckgo_search`) has been renamed to `ddgs`! Use `pip install ddgs` instead.\n",
      "  with DDGS() as ddgs:\n",
      "2025-07-31 01:57:19,125 - INFO - response: https://www.bing.com/search?q=successful+onboarding+flows+in+fintech+apps&filters=ex1%3A%22ez5_19934_20299%22 200\n",
      "2025-07-31 01:57:19,235 - INFO - Web search successful.\n",
      "2025-07-31 01:57:19,235 - INFO - Performing web search for: role-based access control in financial applications\n",
      "c:\\Code\\anaconda3\\Lib\\site-packages\\langchain_community\\utilities\\duckduckgo_search.py:63: RuntimeWarning: This package (`duckduckgo_search`) has been renamed to `ddgs`! Use `pip install ddgs` instead.\n",
      "  with DDGS() as ddgs:\n",
      "2025-07-31 01:57:19,636 - INFO - response: https://www.bing.com/search?q=role-based+access+control+in+financial+applications&filters=ex1%3A%22ez5_19934_20299%22 200\n",
      "2025-07-31 01:57:19,652 - INFO - Web search successful.\n",
      "2025-07-31 01:57:19,657 - INFO - Performing web search for: mobile-first design for personal finance tools\n",
      "c:\\Code\\anaconda3\\Lib\\site-packages\\langchain_community\\utilities\\duckduckgo_search.py:63: RuntimeWarning: This package (`duckduckgo_search`) has been renamed to `ddgs`! Use `pip install ddgs` instead.\n",
      "  with DDGS() as ddgs:\n",
      "2025-07-31 01:57:20,457 - INFO - response: https://www.bing.com/search?q=mobile-first+design+for+personal+finance+tools&filters=ex1%3A%22ez5_19934_20299%22 200\n",
      "2025-07-31 01:57:20,682 - INFO - Web search successful.\n",
      "2025-07-31 01:57:20,683 - INFO - Performing web search for: open source libraries for financial data visualization\n",
      "c:\\Code\\anaconda3\\Lib\\site-packages\\langchain_community\\utilities\\duckduckgo_search.py:63: RuntimeWarning: This package (`duckduckgo_search`) has been renamed to `ddgs`! Use `pip install ddgs` instead.\n",
      "  with DDGS() as ddgs:\n",
      "2025-07-31 01:57:21,064 - INFO - response: https://www.bing.com/search?q=open+source+libraries+for+financial+data+visualization&filters=ex1%3A%22ez5_19934_20299%22 200\n",
      "2025-07-31 01:57:21,186 - INFO - Web search successful.\n",
      "2025-07-31 01:57:21,189 - INFO - Performing web search for: Plaid vs Yodlee vs Salt Edge: feature comparison\n",
      "c:\\Code\\anaconda3\\Lib\\site-packages\\langchain_community\\utilities\\duckduckgo_search.py:63: RuntimeWarning: This package (`duckduckgo_search`) has been renamed to `ddgs`! Use `pip install ddgs` instead.\n",
      "  with DDGS() as ddgs:\n",
      "2025-07-31 01:57:21,481 - INFO - response: https://www.bing.com/search?q=Plaid+vs+Yodlee+vs+Salt+Edge%3A+feature+comparison&filters=ex1%3A%22ez5_19934_20299%22 200\n",
      "2025-07-31 01:57:21,912 - INFO - Web search successful.\n",
      "2025-07-31 01:57:21,915 - INFO - Performing web search for: how to implement end-to-end encryption in fintech apps\n",
      "c:\\Code\\anaconda3\\Lib\\site-packages\\langchain_community\\utilities\\duckduckgo_search.py:63: RuntimeWarning: This package (`duckduckgo_search`) has been renamed to `ddgs`! Use `pip install ddgs` instead.\n",
      "  with DDGS() as ddgs:\n",
      "2025-07-31 01:57:22,199 - INFO - response: https://www.bing.com/search?q=how+to+implement+end-to-end+encryption+in+fintech+apps&filters=ex1%3A%22ez5_19934_20299%22 200\n",
      "2025-07-31 01:57:22,223 - INFO - Web search successful.\n",
      "2025-07-31 01:57:22,223 - INFO - Performing web search for: OAuth2 authentication in mobile finance applications\n",
      "c:\\Code\\anaconda3\\Lib\\site-packages\\langchain_community\\utilities\\duckduckgo_search.py:63: RuntimeWarning: This package (`duckduckgo_search`) has been renamed to `ddgs`! Use `pip install ddgs` instead.\n",
      "  with DDGS() as ddgs:\n",
      "2025-07-31 01:57:22,508 - INFO - response: https://www.bing.com/search?q=OAuth2+authentication+in+mobile+finance+applications&filters=ex1%3A%22ez5_19934_20299%22 200\n",
      "2025-07-31 01:57:23,939 - INFO - response: https://www.bing.com/search?q=OAuth2+authentication+in+mobile+finance+applications&filters=ex1%3A%22ez5_19934_20299%22&first=11&FORM=PERE 200\n",
      "2025-07-31 01:57:23,949 - INFO - Web search successful.\n",
      "2025-07-31 01:57:23,952 - INFO - Performing web search for: examples of AI-powered investment recommendations\n",
      "c:\\Code\\anaconda3\\Lib\\site-packages\\langchain_community\\utilities\\duckduckgo_search.py:63: RuntimeWarning: This package (`duckduckgo_search`) has been renamed to `ddgs`! Use `pip install ddgs` instead.\n",
      "  with DDGS() as ddgs:\n",
      "2025-07-31 01:57:24,245 - INFO - response: https://www.bing.com/search?q=examples+of+AI-powered+investment+recommendations&filters=ex1%3A%22ez5_19934_20299%22 200\n",
      "2025-07-31 01:57:24,824 - INFO - Web search successful.\n",
      "2025-07-31 01:57:24,825 - INFO - Performing web search for: industry benchmarks for fintech app retention rates\n",
      "c:\\Code\\anaconda3\\Lib\\site-packages\\langchain_community\\utilities\\duckduckgo_search.py:63: RuntimeWarning: This package (`duckduckgo_search`) has been renamed to `ddgs`! Use `pip install ddgs` instead.\n",
      "  with DDGS() as ddgs:\n",
      "2025-07-31 01:57:25,041 - INFO - response: https://www.bing.com/search?q=industry+benchmarks+for+fintech+app+retention+rates&filters=ex1%3A%22ez5_19934_20299%22 200\n",
      "2025-07-31 01:57:26,420 - INFO - response: https://www.bing.com/search?q=industry+benchmarks+for+fintech+app+retention+rates&filters=ex1%3A%22ez5_19934_20299%22&first=11&FORM=PERE 200\n",
      "2025-07-31 01:57:26,507 - INFO - Web search successful.\n",
      "2025-07-31 01:57:26,508 - INFO - Performing web search for: challenges in integrating investment and budgeting features\n",
      "c:\\Code\\anaconda3\\Lib\\site-packages\\langchain_community\\utilities\\duckduckgo_search.py:63: RuntimeWarning: This package (`duckduckgo_search`) has been renamed to `ddgs`! Use `pip install ddgs` instead.\n",
      "  with DDGS() as ddgs:\n",
      "2025-07-31 01:57:26,799 - INFO - response: https://www.bing.com/search?q=challenges+in+integrating+investment+and+budgeting+features&filters=ex1%3A%22ez5_19934_20299%22 200\n",
      "2025-07-31 01:57:26,915 - INFO - Web search successful.\n",
      "2025-07-31 01:57:26,915 - INFO - Performing web search for: user privacy controls in personal finance software\n",
      "c:\\Code\\anaconda3\\Lib\\site-packages\\langchain_community\\utilities\\duckduckgo_search.py:63: RuntimeWarning: This package (`duckduckgo_search`) has been renamed to `ddgs`! Use `pip install ddgs` instead.\n",
      "  with DDGS() as ddgs:\n",
      "2025-07-31 01:57:27,214 - INFO - response: https://www.bing.com/search?q=user+privacy+controls+in+personal+finance+software&filters=ex1%3A%22ez5_19934_20299%22 200\n",
      "2025-07-31 01:57:27,745 - INFO - Web search successful.\n",
      "2025-07-31 01:57:27,747 - INFO - Performing web search for: cloud hosting options for secure fintech applications\n",
      "c:\\Code\\anaconda3\\Lib\\site-packages\\langchain_community\\utilities\\duckduckgo_search.py:63: RuntimeWarning: This package (`duckduckgo_search`) has been renamed to `ddgs`! Use `pip install ddgs` instead.\n",
      "  with DDGS() as ddgs:\n",
      "2025-07-31 01:57:28,034 - INFO - response: https://www.bing.com/search?q=cloud+hosting+options+for+secure+fintech+applications&filters=ex1%3A%22ez5_19934_20299%22 200\n",
      "2025-07-31 01:57:28,658 - INFO - Web search successful.\n",
      "2025-07-31 01:57:28,658 - INFO - Performing web search for: regulatory requirements for storing financial data in the US and EU\n",
      "c:\\Code\\anaconda3\\Lib\\site-packages\\langchain_community\\utilities\\duckduckgo_search.py:63: RuntimeWarning: This package (`duckduckgo_search`) has been renamed to `ddgs`! Use `pip install ddgs` instead.\n",
      "  with DDGS() as ddgs:\n",
      "2025-07-31 01:57:28,912 - INFO - response: https://www.bing.com/search?q=regulatory+requirements+for+storing+financial+data+in+the+US+and+EU&filters=ex1%3A%22ez5_19934_20299%22 200\n",
      "2025-07-31 01:57:28,952 - INFO - Web search successful.\n"
     ]
    },
    {
     "name": "stdout",
     "output_type": "stream",
     "text": [
      "--- Web Search Results ---\n",
      "search_queries=['latest AI-powered personal finance apps 2024', 'best budgeting and investment management apps comparison', 'AI in personal finance: industry trends and standards', 'examples of conversational AI in finance apps', 'how Cleo, Mint, YNAB, and Personal Capital use AI', 'top financial data aggregation APIs 2024', 'security best practices for fintech applications', 'GDPR and CCPA compliance for personal finance apps', 'UI/UX design trends for finance and investment apps', 'case studies of AI-driven financial coaching apps', 'predictive analytics in personal finance applications', 'user engagement metrics for finance apps', 'successful onboarding flows in fintech apps', 'role-based access control in financial applications', 'mobile-first design for personal finance tools', 'open source libraries for financial data visualization', 'Plaid vs Yodlee vs Salt Edge: feature comparison', 'how to implement end-to-end encryption in fintech apps', 'OAuth2 authentication in mobile finance applications', 'examples of AI-powered investment recommendations', 'industry benchmarks for fintech app retention rates', 'challenges in integrating investment and budgeting features', 'user privacy controls in personal finance software', 'cloud hosting options for secure fintech applications', 'regulatory requirements for storing financial data in the US and EU'] search_results=[\"2 days ago · Top News Stories of the day, Latest News Headlines, News Specials, Breaking News and Latest India News, World current affairs & Political News all around … Jul 22, 2025 · India News | Latest India News | Read latest and breaking news from India. Today's top India news headlines, news on … 23 hours ago · Latest news headlines from India & around the world. Check out today’s news coverage live with videos & photos on … NDTV.com provides latest news from India and around the world. Get breaking news alerts from India and follow today’s live news updates in field of politics, business, … 5 days ago · Today’s Delhi News: Get all the Latest and Breaking Delhi News on NDTV. Live local Delhi news coverage and updates on Politics, Election, Weather, Crime and More\", \"May 5, 2025 · Find the best budgeting apps in India for 2025 to track expenses, manage savings & reach your financial goals. Paid & free money management apps compared. Dec 6, 2024 · Discover the best budgeting apps of 2024, comparing features, ease of use, and value to help you manage your finances effortlessly. Feb 28, 2025 · Whether you’re looking for budgeting apps, investment tracking tools, or AI-powered financial planners, here are the must-have features to consider before making a choice. Jun 22, 2025 · Here are the seven best budget apps that consistently help users take control of their finances. Each app on this list solves budgeting differently. Here's how they stack up in real … Jan 13, 2025 · Quicken Simplifi is one of the more well-rounded budgeting apps. It accomodates multiple budgeting methods, allows you to sync your financial accounts, and categorizes …\", 'Discover how Google AI is committed to enriching knowledge, solving complex challenges and helping people grow by building useful AI tools and technologies. Research teams across Google are innovating across domains to positively impact society, with breakthroughs that have helped usher in a new era of AI. Discover how AI can be helpful, from work to everyday life Build with Google AI, take advantage of our AI stack, or customize and tune our models. Artificial intelligence (AI) is poised to reshape the way we work. Yet, many organizations don’t have the expertise they need to unlock AI’s full potential. Learning AI skills helps future-proof your career, increases your productivity, and opens up new opportunities. The foundational nature of AI means that AI will also power and transform existing infrastructure, tools, software, hardware, and devices—including products and services not normally thought of as AI.', 'Apr 19, 2025 · Conversational AI in financial services refers to intelligent systems that understand and respond to customer queries using voice or text, just like a human would. These systems … Jul 15, 2025 · Conversational AI in banking enables natural, secure voice interactions that reduce customer wait times, automate routine tasks, and ensure 24/7 availability. By integrating with … Jan 14, 2025 · Conversational AI is changing financial services by creating smarter, more personalised customer interactions. Its potential spans customer service, fraud prevention, … Feb 19, 2025 · These examples showcase how conversational AI is transforming various facets of banking, from customer support to personalized financial advice and even debt collection. The benefits include greater operational efficiency, enhanced customer satisfaction, and better business outcomes. May 13, 2025 · AI chatbots are transforming how financial institutions engage with customers, manage risk, and streamline internal processes. From customer service to fraud detection, the versatility of finance AI chatbots makes them indispensable for modern banking and fintech operations.', 'May 15, 2025 · Discover how AI is transforming personal finance in 2025 with smart budgeting apps like Mint, Cleo, and YNAB. Learn how AI automates budgeting, improves financial habits, and … Jul 8, 2025 · From tracking expenses to offering personalized budgeting advice, tools like Cleo and ChatGPT are making financial planning easier—even for people with no financial background. … Nov 21, 2024 · This guide introduces you to leading apps like Mint, YNAB, and Cleo that automate tracking, predict spending, and offer personalized financial advice. Enhance your financial … Jan 29, 2025 · Discover how AI is revolutionizing personal finance, from automated budgeting and robo-advisors to fraud detection and financial planning. Learn how AI-driven tools are making … Jul 11, 2025 · Mint AI, PocketGuard, YNAB (You Need a Budget) and more such AI personal finance apps basically rely on machine learning to automate recurring financial tasks. The apps learn …', \"21 hours ago · Myntra is home to some of the most on-trend top styles of the season. You can browse, filter, and shop by your favourite … SALE - Discover the latest trends in tops in ZARA WOMAN Collection Browse our complete collection of women's tops, from basic vests and T-shirts for every day to glitzy night-out styles and smart options to … TOP definition: 1. the highest place or part: 2. the flat upper surface of something: 3. in baseball, the first…. Learn more. Jul 9, 2012 · The meaning of TOP is the highest point, level, or part of something : summit, crown. How to use top in a sentence.\", 'Jun 13, 2025 · Cybersecurity is the practice of protecting people, systems and data from cyberattacks by using various technologies, processes and policies. At the enterprise level, … La seguridad informática protege los sistemas informáticos, las redes y los datos digitales de una organización contra el acceso no autorizado, las filtraciones de datos, los ataques cibernéticos … Jun 1, 2023 · IT security, which is short for information technology security, is the practice of protecting an organization’s IT assets—computer systems, networks, digital devices, … ZDNET news and advice keep professionals prepared to embrace innovation and ready to build a better future. Jul 19, 2025 · Web security encompasses a range of solutions and security policies that organizations rely on to protect their networks, users, and assets from various security risks.', 'Welcome to gdpr-info.eu. Here you can find the official PDF of the Regulation (EU) 2016/679 (General Data Protection Regulation) in the current version of the OJ L 119, 04.05.2016; cor. … For the purposes of this Regulation: ‘personal data’ means any information relating to an identified or identifiable natural person (‘data subject’); an identifiable natural person is one who can be … Suitable Recitals (39) Principles of Data Processing (74) Responsibility and Liability of the Controller ← Art. 4 GDPR Art. 6 GDPR → GDPR Table of contents Report error Art. 12 GDPR Transparent information, communication and modalities for the exercise of the rights of the data subject The final interpretation of the GDPR is exclusively within the jurisdiction of the European Court of Justice. However, the opinions of the supervisory authorities are of considerable practical …', 'User interface (UI) design is the process designers use to build easy-to-use and pleasurable interfaces in software or computerized devices. 谢邀！ 1.什么是UI设计？ 《百度百科》中对UI设计作了这样的定义：“UI即User Interface (用户界面)的简称，UI设计是指对软件的人机交互、操作逻辑、界面美观的整体设计。” 用户界 … 你是否因为使用一款好看的APP或网站，感觉非常舒服和流畅，这些优秀的视觉设计就是UI设计的功劳。UI设计是一项关注界面视觉和用户体验的设计工作，不仅包含了设计基础知识，还需要 … Here are 10 of our favorite UI design examples in 2025. Gather some of the best ideas and get started on your own project with renewed vigor. Feb 5, 2025 · Create a standout UI design portfolio that showcases your problem-solving skills, design process, and impact.', 'No good DuckDuckGo Search Result was found', 'Dec 23, 2024 · It is the practice of using historical data, statistical algorithms and machine learning techniques to anticipate future financial trends and outcomes to help finance institutions make … Jul 13, 2025 · The world of personal finance is undergoing a significant transformation, fueled by the power of predictive analytics. This technology leverages data, statistical algorithms, and … May 6, 2025 · Using predictive analytics in financial services makes it possible to identify patterns and market trends more effectively, providing finance professionals with a set of tools for cash … Apr 3, 2025 · What Is Predictive Analytics in Personal Finance? Advanced algorithms analyze past spending to forecast future financial needs. This systematic approach evaluates historical data … Jul 3, 2025 · What are some common applications of Predictive Analytics in Finance? Common applications of predictive analytics in finance include credit scoring, fraud detection, risk …', 'Google Analytics offers a few user metrics that provide different ways of understanding how many people visit your website or app. … Aug 22, 2024 · 1. 当使用中国移动的光纤宽带服务时，用户可能需要登录光猫的管理界面进行配置或管理。 2. 通常情况下，中国移动光猫的默认超级用户 … If you are locked out of your Google account or you forgot your username or password for an old account, follow our account recovery … 阿暄生活 2025-02-19 · 阿暄生活，让生活更美好 为什么我在C盘中找不到User这个文件夹啊？在C盘中找不到User这个文件夹，是该文件夹设置了隐藏属性造成的。解决的方法和详细的操作步骤如下：1、 …', 'No good DuckDuckGo Search Result was found', '现在很多大模型都用system prompt作为静默提示，这个提示在大模型内部是如何生效的。是每次加在用户的输… Jun 17, 2024 · 角色的英文可以用 \"role\" 也可以用 \"character\"，具体使用哪个词取决于上下文。以下是关于这两个单词的详细解释和例句。 1. \"character\" 通常指文学作品中的角色，即剧本中 … CRPG（computer role-playing game）的历史就是电子游戏的崛起之路。 因为 RPG 游戏最初正是从个人电脑上找到了立足之地，然后才逐渐发展为我们现在所见的各大平台上以车枪球为主流 … COI/Declaration of Interest forms from all the authors of an article is required for every submiss… 补充一下： 若是服务中没有【Materials Studio Gateway】这一项服务，可在软件安装包里找到【Accelrys Materials Studio Gateway Service (i686).msi】这个文件，然后双击安装，安装完成后 …', 'Buy mobile phones at best prices. Flipkart is the right platform for you to look for a mobile phone that fits your budget, technical and design requirements as we have phones ranging from Rs 350 … Planning for Online Mobile Shopping? Visit us now to explore everything about mobile phones including mobile prices, reviews, comparisons, features, videos, questions, accessories & more. Explore a wide selection of mobile phones online in India. Find the lowest prices and great discounts on top brands like Samsung, OnePlus, Apple, Motorola, and more. India is one of the biggest markets for mobile phones. We see a plethora of features, smartphones, and iPhones launching every week covering all the major price bands in the country. We see the … 1 day ago · On this page, you can see the price and key specifications of each phone right here, and you can click on each phone’s review links to see their detailed reviews, and clicking on the …', 'Open PDFs in a new tab: This opens the PDF file in a separate browser tab. Open PDFs in preview mode in the same tab: This displays the PDF directly in the Drive interface. To set … On your computer, open Drive for desktop . Click Search . Enter your search terms. Tip: You can use the same advanced searches as in Drive web. Open your file. If the file is on your … On your computer, Chrome might already be running in the background. To check if Chrome is open and to force close it: Windows. Press Ctrl + Alt + Delete. Click Task manager . Under … 知乎，中文互联网高质量的问答社区和创作者聚集的原创内容平台，于 2011 年 1 月正式上线，以「让人们更好的分享知识、经验和见解，找到自己的解答」为品牌使命。知乎凭借认真、专业 … open-vocabulary object detection (OVD)可以翻译为“面向开放词汇下的目标检测”，该任务和zero-shot目标检测非常类似，核心思想都是在可见类（base class）的数据上进行训练，然后完成 …', 'No good DuckDuckGo Search Result was found', \"Oct 21, 2024 · execute和implement的区别明确execute和implement都是表示“执行”的意思，但有一定的区别。 Execute偏重于简单地执行某个任务，而Implement则更加注重于在执行前进行规划、设计 … Mar 6, 2015 · My customer wants me to change the packing method and I tell him that I will implement this change in/on/to next shipment. which preposition is best used here? implement例句： 1、Aspects of the code that you think are trivial will magnify in complexity once you implement all the other required parts of the system. 代码中有些方面你以为平常不过，但是一 … Sep 8, 2020 · Bonjour Je ne comprends pas le sens d'implement dans un permis de conduire australien. Voici la phrase complète : While licence is valid, you may drive vehicles of the classes … Dec 27, 2012 · 英语单词：perform implement 和 execute 都有“执行，实行，实施”的意思 其区别和具体用法是？enforce 指强制性的执行，如执行法律和规章制度等。 1）Policemen and judges will …\", 'Apr 29, 2025 · The OAuth 2.0 for First-Party Native Applications draft specification discusses this concept, for use cases where the same organization provides the authorization server and the …Next steps Ready to modernize IAM? Start Today - Build security and improve ease …An overview of the Dynamic Client Registration (DCR) protocol. Learn …Join our Newsletter Get the latest on identity management, API Security and …The OAuth 2.0 for First-Party Native Applications draft specification …An overview of Dynamic Client Registration Management: DCR and DCRM with …Dynamic Client Registration allows new clients to be registered using a standard … Nov 20, 2024 · OAuth 2.0 is an open standard for authorization that enables third-party applications to access user data without sharing credentials. It’s used by major platforms like … Jun 12, 2025 · This guide explains OAuth2, how it works, the different flows available, and when to use each one, helping you build secure, scalable authorization experiences. Sep 25, 2024 · OAuth 2.0 focuses on authorization rather than authentication, allowing banking APIs to grant limited access to third-party applications without exposing customer credentials. … Dec 31, 2024 · OAuth applications are categorized based on whether they can securely store a secret key (like a password that identifies the app to the server). What are they? Applications …', 'No good DuckDuckGo Search Result was found', 'Apr 16, 2025 · Media and professional services have the highest industry retention rates (84%). The hospitality/travel/restaurant industries have a retention rate of just 55%. Financial/credit and … Jun 3, 2025 · Common metrics include customer acquisition costs, transaction volumes, and user retention rates. Startups and established firms alike utilize these benchmarks to identify … Jul 23, 2025 · We have collected data and statistics on finance app benchmarks. Read on below to find out more. Need more insights? Check out our finance app report. Finance apps have a … Dec 22, 2024 · Fortunately, mobile app retention benchmarks help product teams assess competitive retention rates. To give you an idea of what mobile app retention rate benchmarks … May 7, 2025 · Our team recently conducted a study analyzing customer retention rates across sixteen major industries. Our study was designed to determine how effectively companies …', 'Jan 15, 2025 · The 20th edition of the Global Risks Report 2025 reveals an increasingly fractured global landscape, where escalating geopolitical, environmental, societal and technological … Jan 21, 2025 · A recently published white paper from the World Economic Forum titled Industries in the Intelligent Age - Artificial Intelligence’s Energy Paradox: Balancing Challenges and … Dec 17, 2024 · Health was a major focus in 2024, shaping global news and driving key discussions at the World Economic Forum. From climate change health impacts to the rise of antimicrobial … May 2, 2024 · Governments around the world are building out new rules for cryptocurrencies. The International Organization of Securities Commissions has also laid out its 18 recommendations … Jan 15, 2025 · The Global Risks Report 2025 analyses global risks to support decision-makers in balancing current crises and longer-term priorities.', \"May 4, 2025 · This article explores various facets of privacy in personal finance software, including data … May 12, 2025 · At the end of the day, the best personal finance software for privacy and security is one that … May 14, 2025 · WiseCashAI is more than just a personal finance tool – it's a statement that privacy and powerful … Apr 28, 2025 · Secure your finances with the best offline personal finance software of 2025. Protect privacy, avoid cloud … Jul 18, 2025 · Data privacy in the financial industry refers to the responsible collection, processing, storage, and …\", 'Dec 19, 2024 · Discover the best cloud providers for fintech companies with detailed comparisons of AWS, Azure, Google Cloud, … Sep 3, 2024 · Cloud computing offers fintech firms the ability to rapidly deploy services, scale their infrastructure on-demand, and implement robust security measures to protect sensitive financial data. Aug 19, 2024 · Unlock expert insights for FinTech CTOs on choosing the best cloud provider with our tips to ensure security, … May 5, 2025 · When choosing a cloud services provider for your fintech business, there are several factors that you should consider. … Jun 9, 2025 · Leading FinTech cloud service providers offer robust security features designed to protect sensitive financial data. These include encryption at rest and in transit, identity and access management (IAM), multi-factor authentication (MFA), and fine-grained access controls.', 'No good DuckDuckGo Search Result was found']\n"
     ]
    }
   ],
   "source": [
    "# Create a search query and fetch context from the web\n",
    "class SearchResuts(BaseModel):\n",
    "    search_queries: List[str] = []\n",
    "    search_results: List[str] = []\n",
    "\n",
    "    def str(self):\n",
    "        return '\\n'.join([f\"Query: {qa[0]}\\n Search Results: {qa[1]}\" for qa in zip(self.search_queries, self.search_results)])\n",
    "\n",
    "search_results = SearchResuts()\n",
    "for query in websearch.search_queries:\n",
    "    search_result = interviewer.search_web_for_context(query)\n",
    "    search_results.search_queries.append(query)\n",
    "    search_results.search_results.append(search_result)\n",
    "\n",
    "print(\"--- Web Search Results ---\")\n",
    "print(search_results)"
   ]
  },
  {
   "cell_type": "code",
   "execution_count": null,
   "metadata": {},
   "outputs": [
    {
     "name": "stderr",
     "output_type": "stream",
     "text": [
      "2025-07-31 02:21:21,458 - INFO - Performing web search for: latest AI-powered personal finance apps 2024\n",
      "c:\\Code\\anaconda3\\Lib\\site-packages\\langchain_community\\utilities\\duckduckgo_search.py:63: RuntimeWarning: This package (`duckduckgo_search`) has been renamed to `ddgs`! Use `pip install ddgs` instead.\n",
      "  with DDGS() as ddgs:\n",
      "2025-07-31 02:21:21,723 - INFO - response: https://www.bing.com/search?q=latest+AI-powered+personal+finance+apps+2024&filters=ex1%3A%22ez5_19934_20299%22 200\n",
      "2025-07-31 02:21:23,258 - INFO - response: https://www.bing.com/search?q=latest+AI-powered+personal+finance+apps+2024&filters=ex1%3A%22ez5_19934_20299%22&first=11&FORM=PERE 200\n",
      "2025-07-31 02:21:23,370 - INFO - Web search successful.\n"
     ]
    }
   ],
   "source": [
    "from langchain_community.tools import DuckDuckGoSearchResults\n",
    "interviewer.search_tool = DuckDuckGoSearchResults()\n",
    "query = websearch.search_queries[0]\n",
    "list_results = interviewer.search_tool.invoke(query)"
   ]
  },
  {
   "cell_type": "code",
   "execution_count": 22,
   "metadata": {},
   "outputs": [
    {
     "data": {
      "text/plain": [
       "'snippet: Nov 6, 2024 · Here are some of the most popular, freely available, AI-powered budgeting and financial management tools used in India. The table below compares these tools based on …, title: Top 5 AI Budgeting Tools - Analytics Vidhya, link: https://www.analyticsvidhya.com/blog/2024/11/ai-budgeting-tools/, snippet: Jun 29, 2025 · AI finance tools are mobile apps or platforms that use artificial intelligence to track, analyze, and manage your personal finances. These tools study your spending habits, give …, title: Top AI Tools for Personal Finance in India: Your Smart Money …, link: https://taxreaders.com/top-ai-tools-for-personal-finance-in-india-your-smart-money-manager-in-2025-ai-tools-for-personal-finance-in-india/, snippet: Sep 21, 2024 · Managing personal finances can often feel overwhelming. Thankfully, AI-powered tools have emerged to simplify budgeting, saving, and managing expenses., title: 10 OF BEST & COMMONLY USED AI TOOLS FOR PERSONAL …, link: https://aienabledhub.com/blog/commonly-used-ai-tools-for-personal-finance/, snippet: Nov 8, 2024 · Explore the transformation of the best AI-powered apps for personal finance and budgeting. From tracking expenses to investment insights, these tools make achieving …, title: Top AI-Powered Apps for Personal Finance & Budgeting | 2024 Guide, link: https://shulikatata.com/ai-powered-apps-for-personal-finance-and-budgeting/'"
      ]
     },
     "execution_count": 22,
     "metadata": {},
     "output_type": "execute_result"
    }
   ],
   "source": [
    "list_results"
   ]
  },
  {
   "cell_type": "markdown",
   "metadata": {},
   "source": [
    "# 3. Stage 2: Generate Initial Answer"
   ]
  },
  {
   "cell_type": "code",
   "execution_count": null,
   "metadata": {},
   "outputs": [],
   "source": [
    "# Get the first question and generate an initial answer based on the search context\n",
    "question = interviewer.get_next_question()\n",
    "initial_answer = interviewer.generate_initial_answer(mock_state, question, search_results)\n",
    "\n",
    "print(f\"--- Initial Answer for: '{question}' ---\")\n",
    "print(initial_answer)"
   ]
  },
  {
   "cell_type": "markdown",
   "metadata": {},
   "source": [
    "# 4. Stage 3: Critique Answer"
   ]
  },
  {
   "cell_type": "code",
   "execution_count": null,
   "metadata": {},
   "outputs": [],
   "source": [
    "# Critique the generated answer for weaknesses or omissions\n",
    "critique = interviewer.critique_answer(mock_state, question, initial_answer)\n",
    "\n",
    "print(\"--- Critique of the Answer ---\")\n",
    "print(critique)"
   ]
  },
  {
   "cell_type": "markdown",
   "metadata": {},
   "source": [
    "# 5. Stage 4: Refine Answer"
   ]
  },
  {
   "cell_type": "code",
   "execution_count": null,
   "metadata": {},
   "outputs": [],
   "source": [
    "# Refine the initial answer based on the critique\n",
    "refined_answer = interviewer.refine_answer(mock_state, question, initial_answer, critique)\n",
    "\n",
    "print(\"--- Refined Answer ---\")\n",
    "print(refined_answer)"
   ]
  },
  {
   "cell_type": "markdown",
   "metadata": {},
   "source": [
    "# 6. Stage 5: Format for User Presentation"
   ]
  },
  {
   "cell_type": "code",
   "execution_count": null,
   "metadata": {},
   "outputs": [],
   "source": [
    "# Format the refined answer into a user-friendly presentation\n",
    "user_presentation = interviewer.present_to_user(mock_state, question, refined_answer)\n",
    "\n",
    "print(\"--- Formatted for User ---\")\n",
    "print(user_presentation)"
   ]
  },
  {
   "cell_type": "markdown",
   "metadata": {},
   "source": [
    "# 7. Full Self-Critique Workflow (All Stages Combined)"
   ]
  },
  {
   "cell_type": "code",
   "execution_count": null,
   "metadata": {},
   "outputs": [],
   "source": [
    "# Run the entire self-critique process for a single question\n",
    "print(f\"Running full self-critique for question: '{question}'\")\n",
    "full_result = interviewer.process_question_with_self_critique(mock_state, question)\n",
    "\n",
    "if 'error' in full_result:\n",
    "    print(f\"An error occurred: {full_result['error']}\")\n",
    "else:\n",
    "    print(\"--- Final User Presentation from Full Workflow ---\")\n",
    "    print(full_result.get('user_presentation'))"
   ]
  },
  {
   "cell_type": "markdown",
   "metadata": {},
   "source": [
    "# 8. Full Interview Simulation"
   ]
  },
  {
   "cell_type": "code",
   "execution_count": null,
   "metadata": {},
   "outputs": [],
   "source": [
    "# Simulate running the agent through the first 3 questions of the interview\n",
    "agent_for_run = SafeProductInterviewerAgent()\n",
    "current_state = {\"initial_idea\": initial_idea, \"qna_history\": {}}\n",
    "\n",
    "for i in range(3):\n",
    "    print(f'--- Running Interview: Question {i+1} ---')\n",
    "    current_state = agent_for_run.run(current_state)\n",
    "    print(f'Q&A history now contains {len(current_state[\"qna_history\"])} items.')\n",
    "    print('--- End of Question ---\n",
    "')\n",
    "\n",
    "print(\"Full interview simulation complete.\")"
   ]
  }
 ],
 "metadata": {
  "kernelspec": {
   "display_name": "base",
   "language": "python",
   "name": "python3"
  },
  "language_info": {
   "codemirror_mode": {
    "name": "ipython",
    "version": 3
   },
   "file_extension": ".py",
   "mimetype": "text/x-python",
   "name": "python",
   "nbconvert_exporter": "python",
   "pygments_lexer": "ipython3",
   "version": "3.12.4"
  }
 },
 "nbformat": 4,
 "nbformat_minor": 2
}
